{
 "cells": [
  {
   "cell_type": "code",
   "execution_count": 1,
   "metadata": {},
   "outputs": [],
   "source": [
    "import pandas as pd\n",
    "import itertools\n",
    "import statsmodels.api as sm\n",
    "import statsmodels.formula.api as smf \n",
    "import seaborn as sns"
   ]
  },
  {
   "cell_type": "markdown",
   "metadata": {},
   "source": [
    "## Задание 1"
   ]
  },
  {
   "cell_type": "markdown",
   "metadata": {},
   "source": [
    "Поиск продуктовых паттернов"
   ]
  },
  {
   "cell_type": "code",
   "execution_count": 2,
   "metadata": {},
   "outputs": [],
   "source": [
    "buys = pd.read_csv('https://stepik.org/media/attachments/lesson/409319/test1_completed.csv')"
   ]
  },
  {
   "cell_type": "code",
   "execution_count": 3,
   "metadata": {},
   "outputs": [],
   "source": [
    "buys = buys.rename(columns={'Товар':'product', 'Количество':'quantity'})"
   ]
  },
  {
   "cell_type": "code",
   "execution_count": 4,
   "metadata": {
    "scrolled": true
   },
   "outputs": [
    {
     "data": {
      "text/html": [
       "<div>\n",
       "<style scoped>\n",
       "    .dataframe tbody tr th:only-of-type {\n",
       "        vertical-align: middle;\n",
       "    }\n",
       "\n",
       "    .dataframe tbody tr th {\n",
       "        vertical-align: top;\n",
       "    }\n",
       "\n",
       "    .dataframe thead th {\n",
       "        text-align: right;\n",
       "    }\n",
       "</style>\n",
       "<table border=\"1\" class=\"dataframe\">\n",
       "  <thead>\n",
       "    <tr style=\"text-align: right;\">\n",
       "      <th></th>\n",
       "      <th>id</th>\n",
       "      <th>product</th>\n",
       "      <th>quantity</th>\n",
       "    </tr>\n",
       "  </thead>\n",
       "  <tbody>\n",
       "    <tr>\n",
       "      <th>0</th>\n",
       "      <td>17119</td>\n",
       "      <td>Лимон</td>\n",
       "      <td>1.10</td>\n",
       "    </tr>\n",
       "    <tr>\n",
       "      <th>1</th>\n",
       "      <td>17119</td>\n",
       "      <td>Лимон оранжевый</td>\n",
       "      <td>0.70</td>\n",
       "    </tr>\n",
       "    <tr>\n",
       "      <th>2</th>\n",
       "      <td>17119</td>\n",
       "      <td>Лук-порей</td>\n",
       "      <td>10.00</td>\n",
       "    </tr>\n",
       "    <tr>\n",
       "      <th>3</th>\n",
       "      <td>17119</td>\n",
       "      <td>Лук репчатый</td>\n",
       "      <td>2.50</td>\n",
       "    </tr>\n",
       "    <tr>\n",
       "      <th>4</th>\n",
       "      <td>17119</td>\n",
       "      <td>Малина свежая</td>\n",
       "      <td>1.00</td>\n",
       "    </tr>\n",
       "    <tr>\n",
       "      <th>...</th>\n",
       "      <td>...</td>\n",
       "      <td>...</td>\n",
       "      <td>...</td>\n",
       "    </tr>\n",
       "    <tr>\n",
       "      <th>43509</th>\n",
       "      <td>119396</td>\n",
       "      <td>Укроп</td>\n",
       "      <td>0.25</td>\n",
       "    </tr>\n",
       "    <tr>\n",
       "      <th>43510</th>\n",
       "      <td>119396</td>\n",
       "      <td>Свекла</td>\n",
       "      <td>2.00</td>\n",
       "    </tr>\n",
       "    <tr>\n",
       "      <th>43511</th>\n",
       "      <td>119396</td>\n",
       "      <td>Физалис</td>\n",
       "      <td>1.00</td>\n",
       "    </tr>\n",
       "    <tr>\n",
       "      <th>43512</th>\n",
       "      <td>119396</td>\n",
       "      <td>Черешня сушеная</td>\n",
       "      <td>1.70</td>\n",
       "    </tr>\n",
       "    <tr>\n",
       "      <th>43513</th>\n",
       "      <td>119396</td>\n",
       "      <td>Баклажаны грунтовые</td>\n",
       "      <td>9.20</td>\n",
       "    </tr>\n",
       "  </tbody>\n",
       "</table>\n",
       "<p>43514 rows × 3 columns</p>\n",
       "</div>"
      ],
      "text/plain": [
       "           id              product  quantity\n",
       "0       17119                Лимон      1.10\n",
       "1       17119      Лимон оранжевый      0.70\n",
       "2       17119            Лук-порей     10.00\n",
       "3       17119         Лук репчатый      2.50\n",
       "4       17119        Малина свежая      1.00\n",
       "...       ...                  ...       ...\n",
       "43509  119396                Укроп      0.25\n",
       "43510  119396               Свекла      2.00\n",
       "43511  119396              Физалис      1.00\n",
       "43512  119396      Черешня сушеная      1.70\n",
       "43513  119396  Баклажаны грунтовые      9.20\n",
       "\n",
       "[43514 rows x 3 columns]"
      ]
     },
     "execution_count": 4,
     "metadata": {},
     "output_type": "execute_result"
    }
   ],
   "source": [
    "buys"
   ]
  },
  {
   "cell_type": "code",
   "execution_count": 5,
   "metadata": {},
   "outputs": [
    {
     "data": {
      "text/plain": [
       "id          0\n",
       "product     0\n",
       "quantity    0\n",
       "dtype: int64"
      ]
     },
     "execution_count": 5,
     "metadata": {},
     "output_type": "execute_result"
    }
   ],
   "source": [
    "buys.isna().sum()"
   ]
  },
  {
   "cell_type": "code",
   "execution_count": 6,
   "metadata": {},
   "outputs": [],
   "source": [
    "id_list_product = buys.groupby('id').agg({'product': list})"
   ]
  },
  {
   "cell_type": "code",
   "execution_count": 7,
   "metadata": {},
   "outputs": [
    {
     "data": {
      "text/html": [
       "<div>\n",
       "<style scoped>\n",
       "    .dataframe tbody tr th:only-of-type {\n",
       "        vertical-align: middle;\n",
       "    }\n",
       "\n",
       "    .dataframe tbody tr th {\n",
       "        vertical-align: top;\n",
       "    }\n",
       "\n",
       "    .dataframe thead th {\n",
       "        text-align: right;\n",
       "    }\n",
       "</style>\n",
       "<table border=\"1\" class=\"dataframe\">\n",
       "  <thead>\n",
       "    <tr style=\"text-align: right;\">\n",
       "      <th></th>\n",
       "      <th>product</th>\n",
       "    </tr>\n",
       "    <tr>\n",
       "      <th>id</th>\n",
       "      <th></th>\n",
       "    </tr>\n",
       "  </thead>\n",
       "  <tbody>\n",
       "    <tr>\n",
       "      <th>17119</th>\n",
       "      <td>[Лимон, Лимон оранжевый, Лук-порей, Лук репчат...</td>\n",
       "    </tr>\n",
       "    <tr>\n",
       "      <th>17530</th>\n",
       "      <td>[Лимон оранжевый, Изюм Султана, Капуста цветна...</td>\n",
       "    </tr>\n",
       "    <tr>\n",
       "      <th>17618</th>\n",
       "      <td>[Абрикосы молдавские, Кукуруза мини, Грибы лис...</td>\n",
       "    </tr>\n",
       "    <tr>\n",
       "      <th>17724</th>\n",
       "      <td>[Абрикосы молдавские, Арбуз, Салат Айсберг, Га...</td>\n",
       "    </tr>\n",
       "    <tr>\n",
       "      <th>17814</th>\n",
       "      <td>[Арбуз, Кабачки, Кинза, Малина свежая, Морковь...</td>\n",
       "    </tr>\n",
       "    <tr>\n",
       "      <th>...</th>\n",
       "      <td>...</td>\n",
       "    </tr>\n",
       "    <tr>\n",
       "      <th>119062</th>\n",
       "      <td>[Баклажаны грунтовые, Персики, Персики армянск...</td>\n",
       "    </tr>\n",
       "    <tr>\n",
       "      <th>119110</th>\n",
       "      <td>[Авокадо ХАСС, Апельсины столовые, Базилик зел...</td>\n",
       "    </tr>\n",
       "    <tr>\n",
       "      <th>119206</th>\n",
       "      <td>[Огурцы длинноплодные, Грибы шампиньоны, Подпи...</td>\n",
       "    </tr>\n",
       "    <tr>\n",
       "      <th>119393</th>\n",
       "      <td>[Петрушка, Грибы Еринги, Инжир свежий, Редис, ...</td>\n",
       "    </tr>\n",
       "    <tr>\n",
       "      <th>119396</th>\n",
       "      <td>[Фасоль стручковая, Лук-резанец (шнитт-лук), Л...</td>\n",
       "    </tr>\n",
       "  </tbody>\n",
       "</table>\n",
       "<p>3273 rows × 1 columns</p>\n",
       "</div>"
      ],
      "text/plain": [
       "                                                  product\n",
       "id                                                       \n",
       "17119   [Лимон, Лимон оранжевый, Лук-порей, Лук репчат...\n",
       "17530   [Лимон оранжевый, Изюм Султана, Капуста цветна...\n",
       "17618   [Абрикосы молдавские, Кукуруза мини, Грибы лис...\n",
       "17724   [Абрикосы молдавские, Арбуз, Салат Айсберг, Га...\n",
       "17814   [Арбуз, Кабачки, Кинза, Малина свежая, Морковь...\n",
       "...                                                   ...\n",
       "119062  [Баклажаны грунтовые, Персики, Персики армянск...\n",
       "119110  [Авокадо ХАСС, Апельсины столовые, Базилик зел...\n",
       "119206  [Огурцы длинноплодные, Грибы шампиньоны, Подпи...\n",
       "119393  [Петрушка, Грибы Еринги, Инжир свежий, Редис, ...\n",
       "119396  [Фасоль стручковая, Лук-резанец (шнитт-лук), Л...\n",
       "\n",
       "[3273 rows x 1 columns]"
      ]
     },
     "execution_count": 7,
     "metadata": {},
     "output_type": "execute_result"
    }
   ],
   "source": [
    "id_list_product"
   ]
  },
  {
   "cell_type": "code",
   "execution_count": 8,
   "metadata": {},
   "outputs": [],
   "source": [
    "def prod_comb(lst):\n",
    "    list_count.extend(list(itertools.combinations(sorted(lst[0]), 2)))"
   ]
  },
  {
   "cell_type": "code",
   "execution_count": 9,
   "metadata": {},
   "outputs": [],
   "source": [
    "list_count = []"
   ]
  },
  {
   "cell_type": "code",
   "execution_count": 10,
   "metadata": {},
   "outputs": [
    {
     "data": {
      "text/plain": [
       "id\n",
       "17119     None\n",
       "17530     None\n",
       "17618     None\n",
       "17724     None\n",
       "17814     None\n",
       "          ... \n",
       "119062    None\n",
       "119110    None\n",
       "119206    None\n",
       "119393    None\n",
       "119396    None\n",
       "Length: 3273, dtype: object"
      ]
     },
     "execution_count": 10,
     "metadata": {},
     "output_type": "execute_result"
    }
   ],
   "source": [
    "id_list_product.apply(prod_comb, axis=1)"
   ]
  },
  {
   "cell_type": "code",
   "execution_count": 11,
   "metadata": {},
   "outputs": [],
   "source": [
    "patterns_series = pd.Series(data=list_count)"
   ]
  },
  {
   "cell_type": "code",
   "execution_count": 12,
   "metadata": {},
   "outputs": [],
   "source": [
    "product_patterns = patterns_series.value_counts() \\\n",
    "                                  .to_frame() \\\n",
    "                                  .rename(columns={0:'frequency'})"
   ]
  },
  {
   "cell_type": "code",
   "execution_count": 13,
   "metadata": {},
   "outputs": [
    {
     "data": {
      "text/html": [
       "<div>\n",
       "<style scoped>\n",
       "    .dataframe tbody tr th:only-of-type {\n",
       "        vertical-align: middle;\n",
       "    }\n",
       "\n",
       "    .dataframe tbody tr th {\n",
       "        vertical-align: top;\n",
       "    }\n",
       "\n",
       "    .dataframe thead th {\n",
       "        text-align: right;\n",
       "    }\n",
       "</style>\n",
       "<table border=\"1\" class=\"dataframe\">\n",
       "  <thead>\n",
       "    <tr style=\"text-align: right;\">\n",
       "      <th></th>\n",
       "      <th>frequency</th>\n",
       "    </tr>\n",
       "  </thead>\n",
       "  <tbody>\n",
       "    <tr>\n",
       "      <th>(Огурцы Луховицкие, Укроп)</th>\n",
       "      <td>431</td>\n",
       "    </tr>\n",
       "    <tr>\n",
       "      <th>(Петрушка, Укроп)</th>\n",
       "      <td>408</td>\n",
       "    </tr>\n",
       "    <tr>\n",
       "      <th>(Арбуз, Огурцы Луховицкие)</th>\n",
       "      <td>345</td>\n",
       "    </tr>\n",
       "    <tr>\n",
       "      <th>(Кабачки, Огурцы Луховицкие)</th>\n",
       "      <td>326</td>\n",
       "    </tr>\n",
       "    <tr>\n",
       "      <th>(Кинза, Укроп)</th>\n",
       "      <td>303</td>\n",
       "    </tr>\n",
       "    <tr>\n",
       "      <th>...</th>\n",
       "      <td>...</td>\n",
       "    </tr>\n",
       "    <tr>\n",
       "      <th>(Лонган, Цукаты (брусочки))</th>\n",
       "      <td>1</td>\n",
       "    </tr>\n",
       "    <tr>\n",
       "      <th>(Букет \"Фаворит\", Семена Чиа)</th>\n",
       "      <td>1</td>\n",
       "    </tr>\n",
       "    <tr>\n",
       "      <th>(Салат Фризе, Яблоки сушеные)</th>\n",
       "      <td>1</td>\n",
       "    </tr>\n",
       "    <tr>\n",
       "      <th>(Изюм Голд, Яблоки Мутсу)</th>\n",
       "      <td>1</td>\n",
       "    </tr>\n",
       "    <tr>\n",
       "      <th>(Абрикос вяленый, Семена Чиа)</th>\n",
       "      <td>1</td>\n",
       "    </tr>\n",
       "  </tbody>\n",
       "</table>\n",
       "<p>19697 rows × 1 columns</p>\n",
       "</div>"
      ],
      "text/plain": [
       "                               frequency\n",
       "(Огурцы Луховицкие, Укроп)           431\n",
       "(Петрушка, Укроп)                    408\n",
       "(Арбуз, Огурцы Луховицкие)           345\n",
       "(Кабачки, Огурцы Луховицкие)         326\n",
       "(Кинза, Укроп)                       303\n",
       "...                                  ...\n",
       "(Лонган, Цукаты (брусочки))            1\n",
       "(Букет \"Фаворит\", Семена Чиа)          1\n",
       "(Салат Фризе, Яблоки сушеные)          1\n",
       "(Изюм Голд, Яблоки Мутсу)              1\n",
       "(Абрикос вяленый, Семена Чиа)          1\n",
       "\n",
       "[19697 rows x 1 columns]"
      ]
     },
     "execution_count": 13,
     "metadata": {},
     "output_type": "execute_result"
    }
   ],
   "source": [
    "product_patterns"
   ]
  },
  {
   "cell_type": "markdown",
   "metadata": {},
   "source": [
    "## Топ 5 паттернов"
   ]
  },
  {
   "cell_type": "code",
   "execution_count": 14,
   "metadata": {},
   "outputs": [
    {
     "data": {
      "text/html": [
       "<div>\n",
       "<style scoped>\n",
       "    .dataframe tbody tr th:only-of-type {\n",
       "        vertical-align: middle;\n",
       "    }\n",
       "\n",
       "    .dataframe tbody tr th {\n",
       "        vertical-align: top;\n",
       "    }\n",
       "\n",
       "    .dataframe thead th {\n",
       "        text-align: right;\n",
       "    }\n",
       "</style>\n",
       "<table border=\"1\" class=\"dataframe\">\n",
       "  <thead>\n",
       "    <tr style=\"text-align: right;\">\n",
       "      <th></th>\n",
       "      <th>frequency</th>\n",
       "    </tr>\n",
       "  </thead>\n",
       "  <tbody>\n",
       "    <tr>\n",
       "      <th>(Огурцы Луховицкие, Укроп)</th>\n",
       "      <td>431</td>\n",
       "    </tr>\n",
       "    <tr>\n",
       "      <th>(Петрушка, Укроп)</th>\n",
       "      <td>408</td>\n",
       "    </tr>\n",
       "    <tr>\n",
       "      <th>(Арбуз, Огурцы Луховицкие)</th>\n",
       "      <td>345</td>\n",
       "    </tr>\n",
       "    <tr>\n",
       "      <th>(Кабачки, Огурцы Луховицкие)</th>\n",
       "      <td>326</td>\n",
       "    </tr>\n",
       "    <tr>\n",
       "      <th>(Кинза, Укроп)</th>\n",
       "      <td>303</td>\n",
       "    </tr>\n",
       "  </tbody>\n",
       "</table>\n",
       "</div>"
      ],
      "text/plain": [
       "                              frequency\n",
       "(Огурцы Луховицкие, Укроп)          431\n",
       "(Петрушка, Укроп)                   408\n",
       "(Арбуз, Огурцы Луховицкие)          345\n",
       "(Кабачки, Огурцы Луховицкие)        326\n",
       "(Кинза, Укроп)                      303"
      ]
     },
     "execution_count": 14,
     "metadata": {},
     "output_type": "execute_result"
    }
   ],
   "source": [
    "product_patterns.head(5)"
   ]
  },
  {
   "cell_type": "markdown",
   "metadata": {},
   "source": [
    "## Задание 2"
   ]
  },
  {
   "cell_type": "markdown",
   "metadata": {},
   "source": [
    "К вам поступила информация о числе заказов за прошедшие 3 месяца с разрешением по неделям. Постройте (если это возможно) прогноз продаж на следующие 3 месяца, с учётом того, что в неделю с 2020-02-02 по 2020-02-09 была проведена массивная акция, повысившая число заказов на 7%"
   ]
  },
  {
   "cell_type": "code",
   "execution_count": 15,
   "metadata": {},
   "outputs": [],
   "source": [
    "transaction_count = pd.read_csv('https://stepik.org/media/attachments/lesson/426638/test2_completed.csv', parse_dates=[0])"
   ]
  },
  {
   "cell_type": "code",
   "execution_count": 16,
   "metadata": {},
   "outputs": [],
   "source": [
    "transaction_count = transaction_count.reset_index() \\\n",
    "                                     .rename(columns={'index':'week_number', 'Дата':'date', 'Число заказов':'count_orders'}) \\\n",
    "                                     .set_index('date') "
   ]
  },
  {
   "cell_type": "code",
   "execution_count": 17,
   "metadata": {},
   "outputs": [],
   "source": [
    "transaction_count.week_number = transaction_count.week_number + 1"
   ]
  },
  {
   "cell_type": "code",
   "execution_count": 18,
   "metadata": {},
   "outputs": [
    {
     "data": {
      "text/html": [
       "<div>\n",
       "<style scoped>\n",
       "    .dataframe tbody tr th:only-of-type {\n",
       "        vertical-align: middle;\n",
       "    }\n",
       "\n",
       "    .dataframe tbody tr th {\n",
       "        vertical-align: top;\n",
       "    }\n",
       "\n",
       "    .dataframe thead th {\n",
       "        text-align: right;\n",
       "    }\n",
       "</style>\n",
       "<table border=\"1\" class=\"dataframe\">\n",
       "  <thead>\n",
       "    <tr style=\"text-align: right;\">\n",
       "      <th></th>\n",
       "      <th>week_number</th>\n",
       "      <th>count_orders</th>\n",
       "    </tr>\n",
       "    <tr>\n",
       "      <th>date</th>\n",
       "      <th></th>\n",
       "      <th></th>\n",
       "    </tr>\n",
       "  </thead>\n",
       "  <tbody>\n",
       "    <tr>\n",
       "      <th>2020-01-05</th>\n",
       "      <td>1</td>\n",
       "      <td>650</td>\n",
       "    </tr>\n",
       "    <tr>\n",
       "      <th>2020-01-12</th>\n",
       "      <td>2</td>\n",
       "      <td>837</td>\n",
       "    </tr>\n",
       "    <tr>\n",
       "      <th>2020-01-19</th>\n",
       "      <td>3</td>\n",
       "      <td>1020</td>\n",
       "    </tr>\n",
       "    <tr>\n",
       "      <th>2020-01-26</th>\n",
       "      <td>4</td>\n",
       "      <td>1176</td>\n",
       "    </tr>\n",
       "    <tr>\n",
       "      <th>2020-02-02</th>\n",
       "      <td>5</td>\n",
       "      <td>1489</td>\n",
       "    </tr>\n",
       "    <tr>\n",
       "      <th>2020-02-09</th>\n",
       "      <td>6</td>\n",
       "      <td>1823</td>\n",
       "    </tr>\n",
       "    <tr>\n",
       "      <th>2020-02-16</th>\n",
       "      <td>7</td>\n",
       "      <td>1991</td>\n",
       "    </tr>\n",
       "    <tr>\n",
       "      <th>2020-02-23</th>\n",
       "      <td>8</td>\n",
       "      <td>2166</td>\n",
       "    </tr>\n",
       "    <tr>\n",
       "      <th>2020-03-01</th>\n",
       "      <td>9</td>\n",
       "      <td>2334</td>\n",
       "    </tr>\n",
       "    <tr>\n",
       "      <th>2020-03-08</th>\n",
       "      <td>10</td>\n",
       "      <td>2607</td>\n",
       "    </tr>\n",
       "    <tr>\n",
       "      <th>2020-03-15</th>\n",
       "      <td>11</td>\n",
       "      <td>2734</td>\n",
       "    </tr>\n",
       "    <tr>\n",
       "      <th>2020-03-22</th>\n",
       "      <td>12</td>\n",
       "      <td>3492</td>\n",
       "    </tr>\n",
       "    <tr>\n",
       "      <th>2020-03-29</th>\n",
       "      <td>13</td>\n",
       "      <td>3608</td>\n",
       "    </tr>\n",
       "    <tr>\n",
       "      <th>2020-04-05</th>\n",
       "      <td>14</td>\n",
       "      <td>3857</td>\n",
       "    </tr>\n",
       "  </tbody>\n",
       "</table>\n",
       "</div>"
      ],
      "text/plain": [
       "            week_number  count_orders\n",
       "date                                 \n",
       "2020-01-05            1           650\n",
       "2020-01-12            2           837\n",
       "2020-01-19            3          1020\n",
       "2020-01-26            4          1176\n",
       "2020-02-02            5          1489\n",
       "2020-02-09            6          1823\n",
       "2020-02-16            7          1991\n",
       "2020-02-23            8          2166\n",
       "2020-03-01            9          2334\n",
       "2020-03-08           10          2607\n",
       "2020-03-15           11          2734\n",
       "2020-03-22           12          3492\n",
       "2020-03-29           13          3608\n",
       "2020-04-05           14          3857"
      ]
     },
     "execution_count": 18,
     "metadata": {},
     "output_type": "execute_result"
    }
   ],
   "source": [
    "transaction_count"
   ]
  },
  {
   "cell_type": "markdown",
   "metadata": {},
   "source": [
    " В неделю с 2020-02-02 по 2020-02-09 была проведена массивная акция, повысившая число заказов на 7%, для повышения точности модели вычтем \"выброс\" в 7 процентов на 5-ую неделю, и на все последующие "
   ]
  },
  {
   "cell_type": "code",
   "execution_count": 19,
   "metadata": {},
   "outputs": [],
   "source": [
    "action_day = transaction_count.loc['2020-02-02']['count_orders'] "
   ]
  },
  {
   "cell_type": "code",
   "execution_count": 20,
   "metadata": {},
   "outputs": [],
   "source": [
    "action_day_diff = round(action_day - action_day * 100 / 107, 0)"
   ]
  },
  {
   "cell_type": "markdown",
   "metadata": {},
   "source": [
    "Выброс в 97 едениц"
   ]
  },
  {
   "cell_type": "code",
   "execution_count": 21,
   "metadata": {},
   "outputs": [
    {
     "data": {
      "text/plain": [
       "97.0"
      ]
     },
     "execution_count": 21,
     "metadata": {},
     "output_type": "execute_result"
    }
   ],
   "source": [
    "action_day_diff"
   ]
  },
  {
   "cell_type": "code",
   "execution_count": 22,
   "metadata": {},
   "outputs": [],
   "source": [
    "transaction_count_modifier = transaction_count.copy()"
   ]
  },
  {
   "cell_type": "code",
   "execution_count": 23,
   "metadata": {},
   "outputs": [],
   "source": [
    "transaction_count_modifier['count_orders']['2020-02-02':] = transaction_count.loc['2020-02-02':]['count_orders'] - action_day_diff"
   ]
  },
  {
   "cell_type": "markdown",
   "metadata": {},
   "source": [
    "Линейная регрессия"
   ]
  },
  {
   "cell_type": "code",
   "execution_count": 24,
   "metadata": {},
   "outputs": [
    {
     "name": "stdout",
     "output_type": "stream",
     "text": [
      "                            OLS Regression Results                            \n",
      "==============================================================================\n",
      "Dep. Variable:           count_orders   R-squared:                       0.979\n",
      "Model:                            OLS   Adj. R-squared:                  0.977\n",
      "Method:                 Least Squares   F-statistic:                     553.3\n",
      "Date:                Fri, 26 Mar 2021   Prob (F-statistic):           2.08e-11\n",
      "Time:                        14:27:23   Log-Likelihood:                -89.236\n",
      "No. Observations:                  14   AIC:                             182.5\n",
      "Df Residuals:                      12   BIC:                             183.7\n",
      "Df Model:                           1                                         \n",
      "Covariance Type:            nonrobust                                         \n",
      "===============================================================================\n",
      "                  coef    std err          t      P>|t|      [0.025      0.975]\n",
      "-------------------------------------------------------------------------------\n",
      "const         265.6593     86.516      3.071      0.010      77.157     454.161\n",
      "week_number   238.9978     10.161     23.522      0.000     216.859     261.136\n",
      "==============================================================================\n",
      "Omnibus:                        0.282   Durbin-Watson:                   1.188\n",
      "Prob(Omnibus):                  0.869   Jarque-Bera (JB):                0.437\n",
      "Skew:                          -0.001   Prob(JB):                        0.804\n",
      "Kurtosis:                       2.134   Cond. No.                         18.2\n",
      "==============================================================================\n",
      "\n",
      "Warnings:\n",
      "[1] Standard Errors assume that the covariance matrix of the errors is correctly specified.\n"
     ]
    },
    {
     "name": "stderr",
     "output_type": "stream",
     "text": [
      "/opt/tljh/user/lib/python3.7/site-packages/scipy/stats/stats.py:1535: UserWarning: kurtosistest only valid for n>=20 ... continuing anyway, n=14\n",
      "  \"anyway, n=%i\" % int(n))\n"
     ]
    }
   ],
   "source": [
    "X = sm.add_constant(transaction_count_modifier.week_number)  \n",
    "Y = transaction_count_modifier['count_orders']\n",
    "model = sm.OLS(Y, X)  \n",
    "results = model.fit()  \n",
    "\n",
    "print(results.summary()) \n"
   ]
  },
  {
   "cell_type": "markdown",
   "metadata": {},
   "source": [
    "Высокий R2-score 98% R² показывает, что вариативность наших данных хорошо \"объясняется\" моделью"
   ]
  },
  {
   "cell_type": "markdown",
   "metadata": {},
   "source": [
    "Таблица transaction_count без выброса в 97 едениц"
   ]
  },
  {
   "cell_type": "code",
   "execution_count": 25,
   "metadata": {},
   "outputs": [
    {
     "data": {
      "text/html": [
       "<div>\n",
       "<style scoped>\n",
       "    .dataframe tbody tr th:only-of-type {\n",
       "        vertical-align: middle;\n",
       "    }\n",
       "\n",
       "    .dataframe tbody tr th {\n",
       "        vertical-align: top;\n",
       "    }\n",
       "\n",
       "    .dataframe thead th {\n",
       "        text-align: right;\n",
       "    }\n",
       "</style>\n",
       "<table border=\"1\" class=\"dataframe\">\n",
       "  <thead>\n",
       "    <tr style=\"text-align: right;\">\n",
       "      <th></th>\n",
       "      <th>week_number</th>\n",
       "      <th>count_orders</th>\n",
       "    </tr>\n",
       "    <tr>\n",
       "      <th>date</th>\n",
       "      <th></th>\n",
       "      <th></th>\n",
       "    </tr>\n",
       "  </thead>\n",
       "  <tbody>\n",
       "    <tr>\n",
       "      <th>2020-01-05</th>\n",
       "      <td>1</td>\n",
       "      <td>650.0</td>\n",
       "    </tr>\n",
       "    <tr>\n",
       "      <th>2020-01-12</th>\n",
       "      <td>2</td>\n",
       "      <td>837.0</td>\n",
       "    </tr>\n",
       "    <tr>\n",
       "      <th>2020-01-19</th>\n",
       "      <td>3</td>\n",
       "      <td>1020.0</td>\n",
       "    </tr>\n",
       "    <tr>\n",
       "      <th>2020-01-26</th>\n",
       "      <td>4</td>\n",
       "      <td>1176.0</td>\n",
       "    </tr>\n",
       "    <tr>\n",
       "      <th>2020-02-02</th>\n",
       "      <td>5</td>\n",
       "      <td>1392.0</td>\n",
       "    </tr>\n",
       "    <tr>\n",
       "      <th>2020-02-09</th>\n",
       "      <td>6</td>\n",
       "      <td>1726.0</td>\n",
       "    </tr>\n",
       "    <tr>\n",
       "      <th>2020-02-16</th>\n",
       "      <td>7</td>\n",
       "      <td>1894.0</td>\n",
       "    </tr>\n",
       "    <tr>\n",
       "      <th>2020-02-23</th>\n",
       "      <td>8</td>\n",
       "      <td>2069.0</td>\n",
       "    </tr>\n",
       "    <tr>\n",
       "      <th>2020-03-01</th>\n",
       "      <td>9</td>\n",
       "      <td>2237.0</td>\n",
       "    </tr>\n",
       "    <tr>\n",
       "      <th>2020-03-08</th>\n",
       "      <td>10</td>\n",
       "      <td>2510.0</td>\n",
       "    </tr>\n",
       "    <tr>\n",
       "      <th>2020-03-15</th>\n",
       "      <td>11</td>\n",
       "      <td>2637.0</td>\n",
       "    </tr>\n",
       "    <tr>\n",
       "      <th>2020-03-22</th>\n",
       "      <td>12</td>\n",
       "      <td>3395.0</td>\n",
       "    </tr>\n",
       "    <tr>\n",
       "      <th>2020-03-29</th>\n",
       "      <td>13</td>\n",
       "      <td>3511.0</td>\n",
       "    </tr>\n",
       "    <tr>\n",
       "      <th>2020-04-05</th>\n",
       "      <td>14</td>\n",
       "      <td>3760.0</td>\n",
       "    </tr>\n",
       "  </tbody>\n",
       "</table>\n",
       "</div>"
      ],
      "text/plain": [
       "            week_number  count_orders\n",
       "date                                 \n",
       "2020-01-05            1         650.0\n",
       "2020-01-12            2         837.0\n",
       "2020-01-19            3        1020.0\n",
       "2020-01-26            4        1176.0\n",
       "2020-02-02            5        1392.0\n",
       "2020-02-09            6        1726.0\n",
       "2020-02-16            7        1894.0\n",
       "2020-02-23            8        2069.0\n",
       "2020-03-01            9        2237.0\n",
       "2020-03-08           10        2510.0\n",
       "2020-03-15           11        2637.0\n",
       "2020-03-22           12        3395.0\n",
       "2020-03-29           13        3511.0\n",
       "2020-04-05           14        3760.0"
      ]
     },
     "execution_count": 25,
     "metadata": {},
     "output_type": "execute_result"
    }
   ],
   "source": [
    "transaction_count_modifier"
   ]
  },
  {
   "cell_type": "code",
   "execution_count": 26,
   "metadata": {},
   "outputs": [],
   "source": [
    "start_date = transaction_count.index[-1]\n",
    "\n",
    "\n",
    "end_date = start_date + pd.Timedelta(90, unit='D') "
   ]
  },
  {
   "cell_type": "code",
   "execution_count": 27,
   "metadata": {},
   "outputs": [],
   "source": [
    "week = 15\n",
    "freq = 'D'\n",
    "\n",
    "\n",
    "\n",
    "while start_date < end_date:\n",
    "    \n",
    "    start_date = start_date + pd.Timedelta(7, unit=freq)  \n",
    "    transaction_count_modifier.loc[start_date] = [week, week * 238.9978 + 265.6593] \n",
    "    week += 1\n"
   ]
  },
  {
   "cell_type": "code",
   "execution_count": 28,
   "metadata": {},
   "outputs": [],
   "source": [
    "transaction_count_modifier['count_orders'] = transaction_count_modifier['count_orders'] + action_day_diff"
   ]
  },
  {
   "cell_type": "markdown",
   "metadata": {},
   "source": [
    "### График прогноза продаж на 3 месяца"
   ]
  },
  {
   "cell_type": "code",
   "execution_count": 29,
   "metadata": {},
   "outputs": [
    {
     "data": {
      "image/png": "[encoded data removed]",
      "text/plain": [
       "<Figure size 360x360 with 1 Axes>"
      ]
     },
     "metadata": {
      "needs_background": "light"
     },
     "output_type": "display_data"
    }
   ],
   "source": [
    "g = sns.lmplot(x = 'week_number', y = 'count_orders', data = transaction_count_modifier)\n"
   ]
  },
  {
   "cell_type": "code",
   "execution_count": 30,
   "metadata": {},
   "outputs": [],
   "source": [
    "transaction_count_modifier['week_number'] = transaction_count_modifier['week_number'].apply(int)\n",
    "transaction_count_modifier['count_orders'] = transaction_count_modifier['count_orders'].apply(int)"
   ]
  },
  {
   "cell_type": "markdown",
   "metadata": {},
   "source": [
    "### Таблица прогноза продаж на 3 месяца"
   ]
  },
  {
   "cell_type": "code",
   "execution_count": 31,
   "metadata": {},
   "outputs": [
    {
     "data": {
      "text/html": [
       "<div>\n",
       "<style scoped>\n",
       "    .dataframe tbody tr th:only-of-type {\n",
       "        vertical-align: middle;\n",
       "    }\n",
       "\n",
       "    .dataframe tbody tr th {\n",
       "        vertical-align: top;\n",
       "    }\n",
       "\n",
       "    .dataframe thead th {\n",
       "        text-align: right;\n",
       "    }\n",
       "</style>\n",
       "<table border=\"1\" class=\"dataframe\">\n",
       "  <thead>\n",
       "    <tr style=\"text-align: right;\">\n",
       "      <th></th>\n",
       "      <th>week_number</th>\n",
       "      <th>count_orders</th>\n",
       "    </tr>\n",
       "    <tr>\n",
       "      <th>date</th>\n",
       "      <th></th>\n",
       "      <th></th>\n",
       "    </tr>\n",
       "  </thead>\n",
       "  <tbody>\n",
       "    <tr>\n",
       "      <th>2020-01-05</th>\n",
       "      <td>1</td>\n",
       "      <td>747</td>\n",
       "    </tr>\n",
       "    <tr>\n",
       "      <th>2020-01-12</th>\n",
       "      <td>2</td>\n",
       "      <td>934</td>\n",
       "    </tr>\n",
       "    <tr>\n",
       "      <th>2020-01-19</th>\n",
       "      <td>3</td>\n",
       "      <td>1117</td>\n",
       "    </tr>\n",
       "    <tr>\n",
       "      <th>2020-01-26</th>\n",
       "      <td>4</td>\n",
       "      <td>1273</td>\n",
       "    </tr>\n",
       "    <tr>\n",
       "      <th>2020-02-02</th>\n",
       "      <td>5</td>\n",
       "      <td>1489</td>\n",
       "    </tr>\n",
       "    <tr>\n",
       "      <th>2020-02-09</th>\n",
       "      <td>6</td>\n",
       "      <td>1823</td>\n",
       "    </tr>\n",
       "    <tr>\n",
       "      <th>2020-02-16</th>\n",
       "      <td>7</td>\n",
       "      <td>1991</td>\n",
       "    </tr>\n",
       "    <tr>\n",
       "      <th>2020-02-23</th>\n",
       "      <td>8</td>\n",
       "      <td>2166</td>\n",
       "    </tr>\n",
       "    <tr>\n",
       "      <th>2020-03-01</th>\n",
       "      <td>9</td>\n",
       "      <td>2334</td>\n",
       "    </tr>\n",
       "    <tr>\n",
       "      <th>2020-03-08</th>\n",
       "      <td>10</td>\n",
       "      <td>2607</td>\n",
       "    </tr>\n",
       "    <tr>\n",
       "      <th>2020-03-15</th>\n",
       "      <td>11</td>\n",
       "      <td>2734</td>\n",
       "    </tr>\n",
       "    <tr>\n",
       "      <th>2020-03-22</th>\n",
       "      <td>12</td>\n",
       "      <td>3492</td>\n",
       "    </tr>\n",
       "    <tr>\n",
       "      <th>2020-03-29</th>\n",
       "      <td>13</td>\n",
       "      <td>3608</td>\n",
       "    </tr>\n",
       "    <tr>\n",
       "      <th>2020-04-05</th>\n",
       "      <td>14</td>\n",
       "      <td>3857</td>\n",
       "    </tr>\n",
       "    <tr>\n",
       "      <th>2020-04-12</th>\n",
       "      <td>15</td>\n",
       "      <td>3947</td>\n",
       "    </tr>\n",
       "    <tr>\n",
       "      <th>2020-04-19</th>\n",
       "      <td>16</td>\n",
       "      <td>4186</td>\n",
       "    </tr>\n",
       "    <tr>\n",
       "      <th>2020-04-26</th>\n",
       "      <td>17</td>\n",
       "      <td>4425</td>\n",
       "    </tr>\n",
       "    <tr>\n",
       "      <th>2020-05-03</th>\n",
       "      <td>18</td>\n",
       "      <td>4664</td>\n",
       "    </tr>\n",
       "    <tr>\n",
       "      <th>2020-05-10</th>\n",
       "      <td>19</td>\n",
       "      <td>4903</td>\n",
       "    </tr>\n",
       "    <tr>\n",
       "      <th>2020-05-17</th>\n",
       "      <td>20</td>\n",
       "      <td>5142</td>\n",
       "    </tr>\n",
       "    <tr>\n",
       "      <th>2020-05-24</th>\n",
       "      <td>21</td>\n",
       "      <td>5381</td>\n",
       "    </tr>\n",
       "    <tr>\n",
       "      <th>2020-05-31</th>\n",
       "      <td>22</td>\n",
       "      <td>5620</td>\n",
       "    </tr>\n",
       "    <tr>\n",
       "      <th>2020-06-07</th>\n",
       "      <td>23</td>\n",
       "      <td>5859</td>\n",
       "    </tr>\n",
       "    <tr>\n",
       "      <th>2020-06-14</th>\n",
       "      <td>24</td>\n",
       "      <td>6098</td>\n",
       "    </tr>\n",
       "    <tr>\n",
       "      <th>2020-06-21</th>\n",
       "      <td>25</td>\n",
       "      <td>6337</td>\n",
       "    </tr>\n",
       "    <tr>\n",
       "      <th>2020-06-28</th>\n",
       "      <td>26</td>\n",
       "      <td>6576</td>\n",
       "    </tr>\n",
       "    <tr>\n",
       "      <th>2020-07-05</th>\n",
       "      <td>27</td>\n",
       "      <td>6815</td>\n",
       "    </tr>\n",
       "  </tbody>\n",
       "</table>\n",
       "</div>"
      ],
      "text/plain": [
       "            week_number  count_orders\n",
       "date                                 \n",
       "2020-01-05            1           747\n",
       "2020-01-12            2           934\n",
       "2020-01-19            3          1117\n",
       "2020-01-26            4          1273\n",
       "2020-02-02            5          1489\n",
       "2020-02-09            6          1823\n",
       "2020-02-16            7          1991\n",
       "2020-02-23            8          2166\n",
       "2020-03-01            9          2334\n",
       "2020-03-08           10          2607\n",
       "2020-03-15           11          2734\n",
       "2020-03-22           12          3492\n",
       "2020-03-29           13          3608\n",
       "2020-04-05           14          3857\n",
       "2020-04-12           15          3947\n",
       "2020-04-19           16          4186\n",
       "2020-04-26           17          4425\n",
       "2020-05-03           18          4664\n",
       "2020-05-10           19          4903\n",
       "2020-05-17           20          5142\n",
       "2020-05-24           21          5381\n",
       "2020-05-31           22          5620\n",
       "2020-06-07           23          5859\n",
       "2020-06-14           24          6098\n",
       "2020-06-21           25          6337\n",
       "2020-06-28           26          6576\n",
       "2020-07-05           27          6815"
      ]
     },
     "execution_count": 31,
     "metadata": {},
     "output_type": "execute_result"
    }
   ],
   "source": [
    "transaction_count_modifier"
   ]
  },
  {
   "cell_type": "markdown",
   "metadata": {},
   "source": [
    "## Вывод"
   ]
  },
  {
   "cell_type": "markdown",
   "metadata": {},
   "source": [
    "Несмотря на то, что мы имеем высокий показатель R-2 score, предсказанные значения нашей модели могут быть только ориентировочными ,т.к рост продукта может быть непредсказуемым, включается множество различных факторов(например, сарафанное радио), столь сложную и многофакторную модель нельзя объяснить одной линейной функцией, тем более судить о развитие продукта на его старте"
   ]
  },
  {
   "cell_type": "markdown",
   "metadata": {},
   "source": [
    "## Задание 3"
   ]
  },
  {
   "cell_type": "markdown",
   "metadata": {},
   "source": [
    "SQL запрос"
   ]
  },
  {
   "cell_type": "code",
   "execution_count": 32,
   "metadata": {},
   "outputs": [
    {
     "data": {
      "text/plain": [
       "\"\\nSELECT \\n \\npurchase_date,\\npurchase_id,\\nclient_id,\\nclient_age,\\nclient_registration_age,\\nIF(first_buy == purchase_date, 'new', 'old') client_category,\\npromotion_name,\\ncategory_name,\\npartner_name,\\nclient_city,\\ncity,\\n(price * quantity) revenue,\\nquantity\\n\\n \\n FROM(\\n    SELECT *\\n    FROM(\\n        SELECT *\\n        FROM(\\n        SELECT *\\n            \\n            FROM(\\n                SELECT *\\n                FROM  project_variant_2.purchase\\n                WHERE (purchase_date > '2020-05-01') AND (purchase_date < '2020-08-01') AND status == 1 \\n            ) AS AA\\n            \\n            JOIN (\\n                SELECT \\n                    client_id,\\n                    MIN(purchase_date) first_buy\\n                FROM  project_variant_2.purchase\\n                \\n                GROUP BY client_id\\n            ) AS AB\\n            \\n            ON AA.client_id = AB.client_id\\n        ) AS AC\\n        \\n        JOIN (\\n            SELECT *\\n            FROM project_variant_2.promotion \\n        ) AS AD\\n        \\n        ON AC.partner_id  = AD.partner_id \\n    ) AS A\\n    LEFT JOIN(\\n            SELECT \\n                client_id,\\n                client_city_id,\\n                DATEDIFF(yy, birth_date, toDate(now())) client_age,\\n                DATEDIFF(yy, registration , toDate(now())) client_registration_age \\n        FROM  project_variant_2.client\\n        \\n    \\n    ) AS B\\n    ON A.client_id = B.client_id\\n) AS AMAIN\\n\\nLEFT JOIN (\\n    SELECT *\\n    FROM project_variant_2.city\\n\\n) AS BMAIN\\nON (AMAIN.city_id = BMAIN.city_id) AND (AMAIN.client_city_id = BMAIN.client_city_id)   \\n\\n\\nLIMIT 1000\\n\""
      ]
     },
     "execution_count": 32,
     "metadata": {},
     "output_type": "execute_result"
    }
   ],
   "source": [
    "\"\"\"\n",
    "SELECT \n",
    " \n",
    "purchase_date,\n",
    "purchase_id,\n",
    "client_id,\n",
    "client_age,\n",
    "client_registration_age,\n",
    "IF(first_buy == purchase_date, 'new', 'old') client_category,\n",
    "promotion_name,\n",
    "category_name,\n",
    "partner_name,\n",
    "client_city,\n",
    "city,\n",
    "(price * quantity) revenue,\n",
    "quantity\n",
    "\n",
    " \n",
    " FROM(\n",
    "    SELECT *\n",
    "    FROM(\n",
    "        SELECT *\n",
    "        FROM(\n",
    "        SELECT *\n",
    "            \n",
    "            FROM(\n",
    "                SELECT *\n",
    "                FROM  project_variant_2.purchase\n",
    "                WHERE (purchase_date > '2020-05-01') AND (purchase_date < '2020-08-01') AND status == 1 \n",
    "            ) AS AA\n",
    "            \n",
    "            JOIN (\n",
    "                SELECT \n",
    "                    client_id,\n",
    "                    MIN(purchase_date) first_buy\n",
    "                FROM  project_variant_2.purchase\n",
    "                \n",
    "                GROUP BY client_id\n",
    "            ) AS AB\n",
    "            \n",
    "            ON AA.client_id = AB.client_id\n",
    "        ) AS AC\n",
    "        \n",
    "        JOIN (\n",
    "            SELECT *\n",
    "            FROM project_variant_2.promotion \n",
    "        ) AS AD\n",
    "        \n",
    "        ON AC.partner_id  = AD.partner_id \n",
    "    ) AS A\n",
    "    LEFT JOIN(\n",
    "            SELECT \n",
    "                client_id,\n",
    "                client_city_id,\n",
    "                DATEDIFF(yy, birth_date, toDate(now())) client_age,\n",
    "                DATEDIFF(yy, registration , toDate(now())) client_registration_age \n",
    "        FROM  project_variant_2.client\n",
    "        \n",
    "    \n",
    "    ) AS B\n",
    "    ON A.client_id = B.client_id\n",
    ") AS AMAIN\n",
    "\n",
    "LEFT JOIN (\n",
    "    SELECT *\n",
    "    FROM project_variant_2.city\n",
    "\n",
    ") AS BMAIN\n",
    "ON (AMAIN.city_id = BMAIN.city_id) AND (AMAIN.client_city_id = BMAIN.client_city_id)   \n",
    "\n",
    "\n",
    "LIMIT 1000\n",
    "\"\"\""
   ]
  },
  {
   "cell_type": "code",
   "execution_count": null,
   "metadata": {},
   "outputs": [],
   "source": []
  }
 ],
 "metadata": {
  "kernelspec": {
   "display_name": "Python 3",
   "language": "python",
   "name": "python3"
  },
  "language_info": {
   "codemirror_mode": {
    "name": "ipython",
    "version": 3
   },
   "file_extension": ".py",
   "mimetype": "text/x-python",
   "name": "python",
   "nbconvert_exporter": "python",
   "pygments_lexer": "ipython3",
   "version": "3.7.3"
  }
 },
 "nbformat": 4,
 "nbformat_minor": 4
}
